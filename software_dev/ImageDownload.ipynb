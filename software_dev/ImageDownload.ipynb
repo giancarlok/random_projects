{
 "cells": [
  {
   "cell_type": "code",
   "execution_count": 6,
   "metadata": {
    "collapsed": false
   },
   "outputs": [],
   "source": [
    "import wget \n",
    "import hashlib"
   ]
  },
  {
   "cell_type": "code",
   "execution_count": 7,
   "metadata": {
    "collapsed": false
   },
   "outputs": [],
   "source": [
    "url_lines = [line.rstrip('\\n') for line in open('workfile.txt')]"
   ]
  },
  {
   "cell_type": "code",
   "execution_count": 8,
   "metadata": {
    "collapsed": false
   },
   "outputs": [
    {
     "data": {
      "text/plain": [
       "['http://7606-presscdn-0-74.pagely.netdna-cdn.com/wp-content/uploads/2016/03/Dubai-Photos-Images-Oicture-Dubai-Landmarks-800x600.jpg',\n",
       " 'http://www.gettyimages.pt/gi-resources/images/Homepage/Hero/PT/PT_hero_42_153645159.jpg',\n",
       " 'http://www.telegraph.co.uk/content/dam/news/2016/12/01/JS114983296-AFP-Magnus-Carlsen-xlarge_trans++gsaO8O78rhmZrDxTlQBjdGtT0gK_6EfZT336f62EI5U.jpg']"
      ]
     },
     "execution_count": 8,
     "metadata": {},
     "output_type": "execute_result"
    }
   ],
   "source": [
    "url_lines"
   ]
  },
  {
   "cell_type": "code",
   "execution_count": 9,
   "metadata": {
    "collapsed": false
   },
   "outputs": [
    {
     "name": "stdout",
     "output_type": "stream",
     "text": [
      "3ad7e4b76958b0b62a183dd64ad4529dbd285e97eafb18f9aae1f81f\n",
      "084ef95a4c73469603ec884be1683dddfbeb31a69f3f11e8b8f248f8\n",
      "a8c8091970c7b58c7336c73b1b50bf9623adc3234789f2e3c7ba6636\n"
     ]
    }
   ],
   "source": [
    "for url in url_lines:\n",
    "    filename = wget.download(url, hashlib.sha224(url.encode('utf-8')).hexdigest())\n",
    "    print(filename)"
   ]
  },
  {
   "cell_type": "markdown",
   "metadata": {},
   "source": [
    "we use cryptographic hash function as we want to avoid collisions such as different images with same ending but coming from different webpages, and thus avoiding to be saved under the same name."
   ]
  },
  {
   "cell_type": "markdown",
   "metadata": {
    "collapsed": false
   },
   "source": [
    "has a string \n",
    "how do you get a hash out of a string \n",
    "how to create a folder out of filename \n",
    "how to save the content of the url into a file \n",
    "hanel failures: url doesnt exist -> print message \n",
    "    \n",
    "    assume there is going to be millions of files / images to downlaod \n",
    "    parallelize -> make downlaod faster \n",
    "    for the folder structure, sgeregating files into multiple folders for the ocnvenience of storing them \n",
    "    "
   ]
  },
  {
   "cell_type": "markdown",
   "metadata": {
    "collapsed": true
   },
   "source": [
    "1. build a unique identifier for each file -> filename\n",
    "2. what if your download failes\n",
    "3. parallelizing this (millions of images)\n",
    "4. multiple processes\n",
    "5. solution where you dont put everything into a single folder"
   ]
  },
  {
   "cell_type": "code",
   "execution_count": null,
   "metadata": {
    "collapsed": true
   },
   "outputs": [],
   "source": []
  }
 ],
 "metadata": {
  "anaconda-cloud": {},
  "kernelspec": {
   "display_name": "Python [conda root]",
   "language": "python",
   "name": "conda-root-py"
  },
  "language_info": {
   "codemirror_mode": {
    "name": "ipython",
    "version": 3
   },
   "file_extension": ".py",
   "mimetype": "text/x-python",
   "name": "python",
   "nbconvert_exporter": "python",
   "pygments_lexer": "ipython3",
   "version": "3.5.2"
  }
 },
 "nbformat": 4,
 "nbformat_minor": 1
}
